{
 "cells": [
  {
   "cell_type": "markdown",
   "metadata": {},
   "source": [
    "<center> This notebook converts csv files into a database </center>"
   ]
  },
  {
   "cell_type": "code",
   "execution_count": 23,
   "metadata": {},
   "outputs": [
    {
     "name": "stdout",
     "output_type": "stream",
     "text": [
      "Requirement already satisfied: pip in c:\\users\\joão paulo fernandes\\documents\\projects\\teomewhy channel\\machine learning do inicio ao fim\\venv\\lib\\site-packages (22.2.2)"
     ]
    },
    {
     "name": "stderr",
     "output_type": "stream",
     "text": [
      "ERROR: To modify pip, please run the following command:\n",
      "C:\\Users\\JOÃO PAULO FERNANDES\\Documents\\PROJECTS\\TeomeWhy channel\\Machine Learning do inicio ao fim\\venv\\Scripts\\python.exe -m pip install --upgrade pip\n",
      "\n",
      "[notice] A new release of pip available: 22.2.2 -> 24.0\n",
      "[notice] To update, run: python.exe -m pip install --upgrade pip\n"
     ]
    },
    {
     "name": "stdout",
     "output_type": "stream",
     "text": [
      "\n",
      "Collecting pip\n",
      "  Downloading pip-24.0-py3-none-any.whl (2.1 MB)\n",
      "     ---------------------------------------- 2.1/2.1 MB 895.9 kB/s eta 0:00:00\n"
     ]
    }
   ],
   "source": [
    "!pip install --upgrade pip"
   ]
  },
  {
   "cell_type": "code",
   "execution_count": 25,
   "metadata": {},
   "outputs": [],
   "source": [
    "import os\n",
    "import pandas as pd\n",
    "import sqlite3"
   ]
  },
  {
   "cell_type": "code",
   "execution_count": 6,
   "metadata": {},
   "outputs": [],
   "source": [
    "#Reading all the files\n",
    "all_files = list(filter(lambda x: '.csv' in x, os.listdir(r'C:\\Users\\JOÃO PAULO FERNANDES\\Documents\\PROJECTS\\TeomeWhy channel\\Machine Learning do inicio ao fim\\olist-ml-models-main\\data')))"
   ]
  },
  {
   "cell_type": "markdown",
   "metadata": {},
   "source": [
    "Now, lets create an empty list and input the name of all the file into it using the append method"
   ]
  },
  {
   "cell_type": "code",
   "execution_count": 20,
   "metadata": {},
   "outputs": [],
   "source": [
    "\n",
    "full_dataset = []\n",
    "for elem in all_files:\n",
    "    data = pd.read_csv(r'C:\\Users\\JOÃO PAULO FERNANDES\\Documents\\PROJECTS\\TeomeWhy channel\\Machine Learning do inicio ao fim\\olist-ml-models-main\\data' +'/' + elem)\n",
    "    full_dataset.append(data)"
   ]
  },
  {
   "cell_type": "markdown",
   "metadata": {},
   "source": [
    "Now we neeed to create a connection with SQLite."
   ]
  },
  {
   "cell_type": "code",
   "execution_count": 26,
   "metadata": {},
   "outputs": [],
   "source": [
    "# estabelecendo a conexão e criando o banco\n",
    "con = sqlite3.connect('olist.db')"
   ]
  },
  {
   "cell_type": "markdown",
   "metadata": {},
   "source": [
    "To get the tables names we'll use the csv files names. Using the method splitext we can split the file name and his extension. The index [0] give us just the first column with the files names."
   ]
  },
  {
   "cell_type": "code",
   "execution_count": 27,
   "metadata": {},
   "outputs": [],
   "source": [
    "# Getting the tables names\n",
    "table_names = [os.path.splitext(elem)[0] for elem in all_files]"
   ]
  },
  {
   "cell_type": "markdown",
   "metadata": {},
   "source": [
    "In the next step, we'll get the fields of all the columns.Inside the loop, we colect\n",
    "the first row (header) and store it in columnNames, finishing it with an append in the table_fields list."
   ]
  },
  {
   "cell_type": "code",
   "execution_count": 28,
   "metadata": {},
   "outputs": [],
   "source": [
    "# Getting al the tables fields\n",
    "table_fields = []\n",
    "for i in range(0,len(table_names)):\n",
    "    columnNames = list(full_dataset[i].head(0))\n",
    "    table_fields.append(columnNames)"
   ]
  },
  {
   "cell_type": "markdown",
   "metadata": {},
   "source": [
    "Before creating and inserting the data, it is necessary to define a cursos to interact with\n",
    "the Data Base files."
   ]
  },
  {
   "cell_type": "code",
   "execution_count": 29,
   "metadata": {},
   "outputs": [],
   "source": [
    "cur = con.cursor()"
   ]
  },
  {
   "cell_type": "markdown",
   "metadata": {},
   "source": [
    "So now we'll create the tables inside the SQlite. For each element of the csv tables,\n",
    "we'll execute a query to create a table on the DB. Passing to the execute() function the table\n",
    "name (table_names[item]) as well as the fields that compose them using the comma separator."
   ]
  },
  {
   "cell_type": "code",
   "execution_count": 31,
   "metadata": {},
   "outputs": [],
   "source": [
    "# creating the SQlite tables\n",
    "for item in range(0,len(table_names)):\n",
    "   cur.execute(\"\"\"CREATE TABLE IF NOT EXISTS \"\"\" + table_names[item] + \"\"\"(\"\"\" + ','.join(table_fields[item])+\"\"\")\"\"\")"
   ]
  },
  {
   "cell_type": "markdown",
   "metadata": {},
   "source": [
    "The last stage is to load the record in all the tables. This can be done with a loop that\n",
    "runs through each table and then records the execution using the commit() method."
   ]
  },
  {
   "cell_type": "code",
   "execution_count": 34,
   "metadata": {},
   "outputs": [],
   "source": [
    "# scan all the table and load the data for each one\n",
    "for ind in range(0, len(table_names)):\n",
    "\n",
    "    query = \"\"\"INSERT INTO \"\"\" + str(table_names[ind]) + \"\"\"(\"\"\" + ','.join(table_fields[ind]) + \"\"\") VALUES (\"\"\"+ ','.join(map(str,'?'*len(full_dataset[ind].columns))) + \"\"\")\"\"\"\n",
    "\n",
    "    full_dataset[ind] = full_dataset[ind].astype(str)\n",
    "\n",
    "    for i in range(0, len(full_dataset[ind])):\n",
    "        insert_register = tuple(full_dataset[ind].iloc[i])\n",
    "        cur.execute(query, insert_register)\n",
    "    con.commit()"
   ]
  },
  {
   "cell_type": "code",
   "execution_count": null,
   "metadata": {},
   "outputs": [],
   "source": []
  }
 ],
 "metadata": {
  "kernelspec": {
   "display_name": "venv",
   "language": "python",
   "name": "python3"
  },
  "language_info": {
   "codemirror_mode": {
    "name": "ipython",
    "version": 3
   },
   "file_extension": ".py",
   "mimetype": "text/x-python",
   "name": "python",
   "nbconvert_exporter": "python",
   "pygments_lexer": "ipython3",
   "version": "3.10.7"
  }
 },
 "nbformat": 4,
 "nbformat_minor": 2
}
